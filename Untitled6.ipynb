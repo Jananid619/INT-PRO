{
  "nbformat": 4,
  "nbformat_minor": 0,
  "metadata": {
    "colab": {
      "name": "Untitled6.ipynb",
      "provenance": [],
      "collapsed_sections": [],
      "authorship_tag": "ABX9TyP2Z16n/wdSgZxSsKYsfba0",
      "include_colab_link": true
    },
    "kernelspec": {
      "name": "python3",
      "display_name": "Python 3"
    },
    "language_info": {
      "name": "python"
    }
  },
  "cells": [
    {
      "cell_type": "markdown",
      "metadata": {
        "id": "view-in-github",
        "colab_type": "text"
      },
      "source": [
        "<a href=\"https://colab.research.google.com/github/Jananid619/INT-PRO/blob/main/Untitled6.ipynb\" target=\"_parent\"><img src=\"https://colab.research.google.com/assets/colab-badge.svg\" alt=\"Open In Colab\"/></a>"
      ]
    },
    {
      "cell_type": "markdown",
      "metadata": {
        "id": "T6W8L_Gyh083"
      },
      "source": [
        ""
      ]
    },
    {
      "cell_type": "code",
      "metadata": {
        "id": "b3Mu5o6KJB7O"
      },
      "source": [
        "import sqlite3 as sl"
      ],
      "execution_count": 1,
      "outputs": []
    },
    {
      "cell_type": "code",
      "metadata": {
        "id": "5KjhnjvuJDW0"
      },
      "source": [
        "con = sl.connect('my-test.db')"
      ],
      "execution_count": 2,
      "outputs": []
    },
    {
      "cell_type": "code",
      "metadata": {
        "id": "mQM738QcJLPV"
      },
      "source": [
        "with con:\n",
        "    con.execute(\"\"\"\n",
        "        CREATE TABLE MOVIES (\n",
        "            date INTEGER NOT NULL PRIMARY KEY AUTOINCREMENT,\n",
        "            moviename TEXT,\n",
        "            hero TEXT,\n",
        "            heroine TEXT,\n",
        "            director TEXT\n",
        "        );\n",
        "    \"\"\")"
      ],
      "execution_count": 3,
      "outputs": []
    },
    {
      "cell_type": "code",
      "metadata": {
        "id": "2JdEyH0CJxaf"
      },
      "source": [
        "sql = 'INSERT INTO MOVIES (date, moviename, hero,heroine,director) values(?, ?, ?, ?, ?)'\n",
        "data = [\n",
        "    (2001, 'world','john','Alice', 'raj'),\n",
        "    (2002, 'hero','nag','roja', 'rajmouli'),\n",
        "    (2003, 'wonderland','james','alena', 'manish')\n",
        "]"
      ],
      "execution_count": 4,
      "outputs": []
    },
    {
      "cell_type": "code",
      "metadata": {
        "id": "QL8jFU6SK80g"
      },
      "source": [
        "with con:\n",
        "    con.executemany(sql, data)"
      ],
      "execution_count": 5,
      "outputs": []
    },
    {
      "cell_type": "code",
      "metadata": {
        "colab": {
          "base_uri": "https://localhost:8080/"
        },
        "id": "LWbnAyWPK-aN",
        "outputId": "edf4ed9d-9c5a-4e3d-91bc-99df2264fc39"
      },
      "source": [
        "with con:\n",
        "    data = con.execute(\"SELECT * FROM MOVIES WHERE date < 2003\")\n",
        "    for row in data:\n",
        "        print(row)"
      ],
      "execution_count": 6,
      "outputs": [
        {
          "output_type": "stream",
          "name": "stdout",
          "text": [
            "(2001, 'world', 'john', 'Alice', 'raj')\n",
            "(2002, 'hero', 'nag', 'roja', 'rajmouli')\n"
          ]
        }
      ]
    }
  ]
}